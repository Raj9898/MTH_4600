{
 "cells": [
  {
   "cell_type": "code",
   "execution_count": 1,
   "metadata": {},
   "outputs": [],
   "source": [
    "import numpy as np \n",
    "import scipy.stats as ss\n",
    "import matplotlib.pyplot as plt\n",
    "plt.style.use('seaborn')"
   ]
  },
  {
   "cell_type": "code",
   "execution_count": 2,
   "metadata": {},
   "outputs": [],
   "source": [
    "def YTM (pv: float, maturity: int, cashflow: float = 100):\n",
    "    \"\"\"\n",
    "    This function calculates the yield-to-maturity (ytm) of the promised cash flow\n",
    "    :param pv: the promised cash flow of the annuity where the calculated value of this promised cash flow\n",
    "    :param cashflow: the provided cashflow per each coupon data\n",
    "    :param maturity: the maturity of the provided fixed income asset in months (e.g. 3yr = 36 months)\n",
    "    return: The ytm is calculated as a continuously compounding annual rate\n",
    "    \"\"\"\n",
    "    \n",
    "    ytm = 0.0\n",
    "    step = 0.01\n",
    "\n",
    "    # Calculate the ytm to within 0.000001, i.e., 0.0001% or 0.01 bps\n",
    "    while (step > 0.000001):\n",
    "\n",
    "        # Keep increasing the trial ytm until the resulting present value (pv0) is too small (less than pv).\n",
    "        while (True):\n",
    "\n",
    "            # Calculate the present value with a discount rate of \"ytm\".\n",
    "            pv0 = 0\n",
    "            for m in range(1, maturity+1):\n",
    "                pv0 += cashflow * nexp (-ytm * m / 12.0)\n",
    "\n",
    "            # Is ytm now too big? If not, increase it further by the amount \"step\".\n",
    "            if (pv0 > pv):\n",
    "                ytm += step\n",
    "\n",
    "            # If so, reduce it by \"step\" and break out of the \"while (1)\" loop. Reduce the step size for the next iteration.\n",
    "            else:\n",
    "                ytm -= step\n",
    "                step /= 10.0\n",
    "                break\n",
    "\n",
    "    #return the yield-to-maturity as a percent.\n",
    "    return 100.0 * ytm              "
   ]
  },
  {
   "cell_type": "code",
   "execution_count": null,
   "metadata": {},
   "outputs": [],
   "source": [
    "credit_rating = {\"AAA\":0.035, \"AA\":0.04, \"A\":0.045, \"BBB\":0.05, \"Junk\":0.06}"
   ]
  },
  {
   "cell_type": "code",
   "execution_count": 11,
   "metadata": {},
   "outputs": [],
   "source": [
    "rho = 0.01"
   ]
  },
  {
   "cell_type": "code",
   "execution_count": 12,
   "metadata": {},
   "outputs": [],
   "source": [
    "N = np.random.normal(loc=0, scale=1, size=20)"
   ]
  },
  {
   "cell_type": "code",
   "execution_count": 13,
   "metadata": {},
   "outputs": [],
   "source": [
    "cov = np.reshape(np.array([1 if i==j else rho for j in range(20) for i in range(20)]),(20,20))"
   ]
  },
  {
   "cell_type": "code",
   "execution_count": 14,
   "metadata": {},
   "outputs": [],
   "source": [
    "A = N.dot(cov)"
   ]
  },
  {
   "cell_type": "code",
   "execution_count": 15,
   "metadata": {},
   "outputs": [],
   "source": [
    "U = ss.norm.cdf(A, loc=0, scale=1)"
   ]
  },
  {
   "cell_type": "code",
   "execution_count": 16,
   "metadata": {},
   "outputs": [],
   "source": [
    "T = -50*np.log(U)"
   ]
  },
  {
   "cell_type": "code",
   "execution_count": 17,
   "metadata": {},
   "outputs": [
    {
     "data": {
      "text/plain": [
       "array([0.80721973, 0.27459653, 0.82323114, 0.46378141, 0.86105724,\n",
       "       0.56704439, 0.22677023, 0.75619686, 0.52891122, 0.7130208 ,\n",
       "       0.25867309, 0.66299294, 0.69292999, 0.2850713 , 0.07967168,\n",
       "       0.99356776, 0.9740488 , 0.72974594, 0.83463867, 0.50218466])"
      ]
     },
     "execution_count": 17,
     "metadata": {},
     "output_type": "execute_result"
    }
   ],
   "source": [
    "U"
   ]
  },
  {
   "cell_type": "code",
   "execution_count": 18,
   "metadata": {},
   "outputs": [
    {
     "data": {
      "text/plain": [
       "array([ 10.7079685 ,  64.62262054,   9.72591363,  38.4170971 ,\n",
       "         7.47971481,  28.36588451,  74.19089865,  13.97267717,\n",
       "        31.84673408,  16.91223432,  67.60950988,  20.54954711,\n",
       "        18.34131543,  62.75079711, 126.49205196,   0.32265069,\n",
       "         1.31469389,  15.75294138,   9.03781899,  34.43936924])"
      ]
     },
     "execution_count": 18,
     "metadata": {},
     "output_type": "execute_result"
    }
   ],
   "source": [
    "T"
   ]
  },
  {
   "cell_type": "code",
   "execution_count": null,
   "metadata": {},
   "outputs": [],
   "source": []
  },
  {
   "cell_type": "code",
   "execution_count": 31,
   "metadata": {},
   "outputs": [],
   "source": [
    "epv = 0\n",
    "for m in range(1,13):\n",
    "    cash = sum([100 if i > m/12 else 0 for i in T])\n",
    "    epv += cash / np.math.exp(0.03*m/12)"
   ]
  },
  {
   "cell_type": "code",
   "execution_count": 32,
   "metadata": {},
   "outputs": [
    {
     "data": {
      "text/plain": [
       "22731.833824287547"
      ]
     },
     "execution_count": 32,
     "metadata": {},
     "output_type": "execute_result"
    }
   ],
   "source": [
    "epv"
   ]
  },
  {
   "cell_type": "code",
   "execution_count": 33,
   "metadata": {},
   "outputs": [
    {
     "ename": "NameError",
     "evalue": "name 'exp' is not defined",
     "output_type": "error",
     "traceback": [
      "\u001b[1;31m---------------------------------------------------------------------------\u001b[0m",
      "\u001b[1;31mNameError\u001b[0m                                 Traceback (most recent call last)",
      "\u001b[1;32m<ipython-input-33-4d00d46912f3>\u001b[0m in \u001b[0;36m<module>\u001b[1;34m()\u001b[0m\n\u001b[1;32m----> 1\u001b[1;33m \u001b[0mYTM\u001b[0m\u001b[1;33m(\u001b[0m\u001b[0mepv\u001b[0m\u001b[1;33m,\u001b[0m\u001b[1;36m12\u001b[0m\u001b[1;33m,\u001b[0m\u001b[1;36m100\u001b[0m\u001b[1;33m)\u001b[0m\u001b[1;33m\u001b[0m\u001b[0m\n\u001b[0m",
      "\u001b[1;32m<ipython-input-2-956a3e97f26e>\u001b[0m in \u001b[0;36mYTM\u001b[1;34m(pv, maturity, cashflow)\u001b[0m\n\u001b[0;32m     20\u001b[0m             \u001b[0mpv0\u001b[0m \u001b[1;33m=\u001b[0m \u001b[1;36m0\u001b[0m\u001b[1;33m\u001b[0m\u001b[0m\n\u001b[0;32m     21\u001b[0m             \u001b[1;32mfor\u001b[0m \u001b[0mm\u001b[0m \u001b[1;32min\u001b[0m \u001b[0mrange\u001b[0m\u001b[1;33m(\u001b[0m\u001b[1;36m1\u001b[0m\u001b[1;33m,\u001b[0m \u001b[0mmaturity\u001b[0m\u001b[1;33m+\u001b[0m\u001b[1;36m1\u001b[0m\u001b[1;33m)\u001b[0m\u001b[1;33m:\u001b[0m\u001b[1;33m\u001b[0m\u001b[0m\n\u001b[1;32m---> 22\u001b[1;33m                 \u001b[0mpv0\u001b[0m \u001b[1;33m+=\u001b[0m \u001b[0mcashflow\u001b[0m \u001b[1;33m*\u001b[0m \u001b[0mexp\u001b[0m \u001b[1;33m(\u001b[0m\u001b[1;33m-\u001b[0m\u001b[0mytm\u001b[0m \u001b[1;33m*\u001b[0m \u001b[0mm\u001b[0m \u001b[1;33m/\u001b[0m \u001b[1;36m12.0\u001b[0m\u001b[1;33m)\u001b[0m\u001b[1;33m\u001b[0m\u001b[0m\n\u001b[0m\u001b[0;32m     23\u001b[0m \u001b[1;33m\u001b[0m\u001b[0m\n\u001b[0;32m     24\u001b[0m             \u001b[1;31m# Is ytm now too big? If not, increase it further by the amount \"step\".\u001b[0m\u001b[1;33m\u001b[0m\u001b[1;33m\u001b[0m\u001b[0m\n",
      "\u001b[1;31mNameError\u001b[0m: name 'exp' is not defined"
     ]
    }
   ],
   "source": [
    "YTM(epv,12,100)"
   ]
  },
  {
   "cell_type": "code",
   "execution_count": null,
   "metadata": {},
   "outputs": [],
   "source": []
  },
  {
   "cell_type": "code",
   "execution_count": null,
   "metadata": {},
   "outputs": [],
   "source": []
  }
 ],
 "metadata": {
  "kernelspec": {
   "display_name": "Python 3",
   "language": "python",
   "name": "python3"
  },
  "language_info": {
   "codemirror_mode": {
    "name": "ipython",
    "version": 3
   },
   "file_extension": ".py",
   "mimetype": "text/x-python",
   "name": "python",
   "nbconvert_exporter": "python",
   "pygments_lexer": "ipython3",
   "version": "3.7.0"
  }
 },
 "nbformat": 4,
 "nbformat_minor": 2
}
