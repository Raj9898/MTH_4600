{
 "cells": [
  {
   "cell_type": "code",
   "execution_count": 1,
   "metadata": {},
   "outputs": [],
   "source": [
    "import numpy as np \n",
    "import scipy.stats as ss\n",
    "import matplotlib.pyplot as plt\n",
    "plt.style.use('seaborn')"
   ]
  },
  {
   "cell_type": "code",
   "execution_count": 36,
   "metadata": {},
   "outputs": [],
   "source": [
    "def YTM (pv: float, maturity: int, cashflow: float = 100):\n",
    "    \"\"\"\n",
    "    This function calculates the yield-to-maturity (ytm) of the promised cash flow\n",
    "    :param pv: the promised cash flow of the annuity where the calculated value of this promised cash flow\n",
    "    :param cashflow: the provided cashflow per each coupon data\n",
    "    :param maturity: the maturity of the provided fixed income asset in months (e.g. 3yr = 36 months)\n",
    "    return: The ytm is calculated as a continuously compounding annual rate\n",
    "    \"\"\"\n",
    "    \n",
    "    ytm = 0.0\n",
    "    step = 0.01\n",
    "\n",
    "    # Calculate the ytm to within 0.000001, i.e., 0.0001% or 0.01 bps\n",
    "    while (step > 0.000001):\n",
    "\n",
    "        # Keep increasing the trial ytm until the resulting present value (pv0) is too small (less than pv).\n",
    "        while (True):\n",
    "\n",
    "            # Calculate the present value with a discount rate of \"ytm\".\n",
    "            pv0 = 0\n",
    "            for m in range(1, maturity+1):\n",
    "                pv0 += cashflow * np.math.exp(-ytm * m / 12.0)\n",
    "\n",
    "            # Is ytm now too big? If not, increase it further by the amount \"step\".\n",
    "            if (pv0 > pv):\n",
    "                ytm += step\n",
    "\n",
    "            # If so, reduce it by \"step\" and break out of the \"while (1)\" loop. Reduce the step size for the next iteration.\n",
    "            else:\n",
    "                ytm -= step\n",
    "                step /= 10.0\n",
    "                break\n",
    "\n",
    "    #return the yield-to-maturity as a percent.\n",
    "    return 100.0 * ytm              "
   ]
  },
  {
   "cell_type": "code",
   "execution_count": 68,
   "metadata": {},
   "outputs": [],
   "source": [
    "credit_rating = {\"AAA\":0.035, \"AA\":0.04, \"A\":0.045, \"BBB\":0.05, \"Junk\":0.06}"
   ]
  },
  {
   "cell_type": "code",
   "execution_count": 79,
   "metadata": {},
   "outputs": [],
   "source": [
    "def cash_waterfall(cashflow:int, ratings:dict, type:str = \"yearly\"):\n",
    "    if type == \"yearly\":\n",
    "        ideal_cash = (100 * 20 * 12) / 5\n",
    "        ratings = list(credit_rating.keys())\n",
    "        cash = 0\n",
    "\n",
    "        for i in range(5):\n",
    "            if cashflow > ideal_cash:\n",
    "                cash = ideal_cash\n",
    "                cashflow -= ideal_cash\n",
    "            else:\n",
    "                cash = cashflow\n",
    "\n",
    "            statement = \"{} CDO recieved \\n{}\\n\".format(ratings[i], round(cash,2))\n",
    "            print(statement)\n",
    "    elif type == \"monthly\":\n",
    "        ideal_cash = (100 * 20) / 5\n",
    "        ratings = list(credit_rating.keys())\n",
    "        cash = 0\n",
    "\n",
    "        for i in range(5):\n",
    "            if cashflow > ideal_cash:\n",
    "                cash = ideal_cash\n",
    "                cashflow -= ideal_cash\n",
    "            else:\n",
    "                cash = cashflow\n",
    "\n",
    "            statement = \"{} CDO recieved \\n{}\\n\".format(ratings[i], round(cash,2))\n",
    "            print(statement)"
   ]
  },
  {
   "cell_type": "code",
   "execution_count": null,
   "metadata": {},
   "outputs": [],
   "source": []
  },
  {
   "cell_type": "code",
   "execution_count": 39,
   "metadata": {},
   "outputs": [],
   "source": [
    "rho = 0.1"
   ]
  },
  {
   "cell_type": "code",
   "execution_count": 40,
   "metadata": {},
   "outputs": [],
   "source": [
    "N = np.random.normal(loc=0, scale=1, size=20)"
   ]
  },
  {
   "cell_type": "code",
   "execution_count": 41,
   "metadata": {},
   "outputs": [],
   "source": [
    "cov = np.reshape(np.array([1 if i==j else rho for j in range(20) for i in range(20)]),(20,20))"
   ]
  },
  {
   "cell_type": "code",
   "execution_count": 42,
   "metadata": {},
   "outputs": [],
   "source": [
    "A = N.dot(cov)"
   ]
  },
  {
   "cell_type": "code",
   "execution_count": 43,
   "metadata": {},
   "outputs": [],
   "source": [
    "U = ss.norm.cdf(A, loc=0, scale=1)"
   ]
  },
  {
   "cell_type": "code",
   "execution_count": 44,
   "metadata": {},
   "outputs": [],
   "source": [
    "T = -50*np.log(U)"
   ]
  },
  {
   "cell_type": "code",
   "execution_count": 45,
   "metadata": {},
   "outputs": [
    {
     "data": {
      "text/plain": [
       "array([3.16248933e-04, 2.02315698e-01, 9.84459650e-02, 9.90908092e-03,\n",
       "       4.96219850e-01, 1.32395932e-01, 5.21769570e-03, 4.57311415e-01,\n",
       "       1.03106343e-01, 8.66920502e-01, 4.45651588e-02, 4.81552886e-01,\n",
       "       1.19438777e-02, 6.81413903e-03, 2.52842414e-01, 1.59948913e-01,\n",
       "       5.14440818e-02, 8.90903335e-01, 3.28710093e-01, 5.70148668e-02])"
      ]
     },
     "execution_count": 45,
     "metadata": {},
     "output_type": "execute_result"
    }
   ],
   "source": [
    "U"
   ]
  },
  {
   "cell_type": "code",
   "execution_count": 46,
   "metadata": {},
   "outputs": [
    {
     "data": {
      "text/plain": [
       "array([402.94904452,  79.89629707, 115.91237302, 230.71518386,\n",
       "        35.03681025, 101.09791808, 262.78497054,  39.11953431,\n",
       "       113.59971857,   7.14039997, 155.54014585,  36.53696085,\n",
       "       221.37682295, 249.43777783,  68.74944277,  91.64504056,\n",
       "       148.36299256,   5.77596739,  55.62895471, 143.22216124])"
      ]
     },
     "execution_count": 46,
     "metadata": {},
     "output_type": "execute_result"
    }
   ],
   "source": [
    "T"
   ]
  },
  {
   "cell_type": "code",
   "execution_count": null,
   "metadata": {},
   "outputs": [],
   "source": []
  },
  {
   "cell_type": "code",
   "execution_count": 57,
   "metadata": {},
   "outputs": [],
   "source": [
    "epv = 0\n",
    "for m in range(1,13):\n",
    "    cash = sum([100 if i > m/12 else 0 for i in T])\n",
    "    epv += cash * np.math.exp(-0.03*m/12)"
   ]
  },
  {
   "cell_type": "code",
   "execution_count": 58,
   "metadata": {},
   "outputs": [
    {
     "data": {
      "text/plain": [
       "23614.03100910171"
      ]
     },
     "execution_count": 58,
     "metadata": {},
     "output_type": "execute_result"
    }
   ],
   "source": [
    "epv"
   ]
  },
  {
   "cell_type": "code",
   "execution_count": 59,
   "metadata": {},
   "outputs": [
    {
     "data": {
      "text/plain": [
       "3.0308000000000006"
      ]
     },
     "execution_count": 59,
     "metadata": {},
     "output_type": "execute_result"
    }
   ],
   "source": [
    "YTM(epv,360,100)"
   ]
  },
  {
   "cell_type": "code",
   "execution_count": 80,
   "metadata": {},
   "outputs": [
    {
     "name": "stdout",
     "output_type": "stream",
     "text": [
      "AAA CDO recieved \n",
      "4800.0\n",
      "\n",
      "AA CDO recieved \n",
      "4800.0\n",
      "\n",
      "A CDO recieved \n",
      "4800.0\n",
      "\n",
      "BBB CDO recieved \n",
      "4800.0\n",
      "\n",
      "Junk CDO recieved \n",
      "4414.03\n",
      "\n"
     ]
    }
   ],
   "source": [
    "cash_waterfall(epv, ratings=credit_rating, type='yearly')"
   ]
  },
  {
   "cell_type": "code",
   "execution_count": null,
   "metadata": {},
   "outputs": [],
   "source": []
  }
 ],
 "metadata": {
  "kernelspec": {
   "display_name": "Python 3",
   "language": "python",
   "name": "python3"
  },
  "language_info": {
   "codemirror_mode": {
    "name": "ipython",
    "version": 3
   },
   "file_extension": ".py",
   "mimetype": "text/x-python",
   "name": "python",
   "nbconvert_exporter": "python",
   "pygments_lexer": "ipython3",
   "version": "3.7.0"
  }
 },
 "nbformat": 4,
 "nbformat_minor": 2
}
