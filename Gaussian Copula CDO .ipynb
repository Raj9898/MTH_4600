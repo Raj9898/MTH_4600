{
 "cells": [
  {
   "cell_type": "code",
   "execution_count": 1,
   "metadata": {},
   "outputs": [],
   "source": [
    "import numpy as np \n",
    "import scipy.stats as ss\n",
    "import matplotlib.pyplot as plt\n",
    "plt.style.use('seaborn')"
   ]
  },
  {
   "cell_type": "code",
   "execution_count": 2,
   "metadata": {},
   "outputs": [],
   "source": [
    "def YTM (pv: float, maturity: int, cashflow: float = 100):\n",
    "    \"\"\"\n",
    "    This function calculates the yield-to-maturity (ytm) of the promised cash flow\n",
    "    :param pv: the promised cash flow of the annuity where the calculated value of this promised cash flow\n",
    "    :param cashflow: the provided cashflow per each coupon data\n",
    "    :param maturity: the maturity of the provided fixed income asset in months (e.g. 3yr = 36 months)\n",
    "    return: The ytm is calculated as a continuously compounding annual rate\n",
    "    \"\"\"\n",
    "    \n",
    "    ytm = 0.0\n",
    "    step = 0.01\n",
    "\n",
    "    # Calculate the ytm to within 0.000001, i.e., 0.0001% or 0.01 bps\n",
    "    while (step > 0.000001):\n",
    "\n",
    "        # Keep increasing the trial ytm until the resulting present value (pv0) is too small (less than pv).\n",
    "        while (True):\n",
    "\n",
    "            # Calculate the present value with a discount rate of \"ytm\".\n",
    "            pv0 = 0\n",
    "            for m in range(1, maturity+1):\n",
    "                pv0 += cashflow * np.math.exp(-ytm * m / 12.0)\n",
    "\n",
    "            # Is ytm now too big? If not, increase it further by the amount \"step\".\n",
    "            if (pv0 > pv):\n",
    "                ytm += step\n",
    "\n",
    "            # If so, reduce it by \"step\" and break out of the \"while (1)\" loop. Reduce the step size for the next iteration.\n",
    "            else:\n",
    "                ytm -= step\n",
    "                step /= 10.0\n",
    "                break\n",
    "\n",
    "    #return the yield-to-maturity as a percent.\n",
    "    return 100.0 * ytm              "
   ]
  },
  {
   "cell_type": "code",
   "execution_count": 3,
   "metadata": {},
   "outputs": [],
   "source": [
    "credit_rating = {\"AAA\":0.035, \"AA\":0.04, \"A\":0.045, \"BBB\":0.05, \"Junk\":0.06}"
   ]
  },
  {
   "cell_type": "code",
   "execution_count": 4,
   "metadata": {},
   "outputs": [],
   "source": [
    "def cash_waterfall(cashflow:int, ratings:dict, type:str = \"yearly\"):\n",
    "    if type == \"yearly\":\n",
    "        ideal_cash = (100 * 20 * 12) / 5\n",
    "        ratings = list(credit_rating.keys())\n",
    "        cash = 0\n",
    "\n",
    "        for i in range(5):\n",
    "            if cashflow > ideal_cash:\n",
    "                cash = ideal_cash\n",
    "                cashflow -= ideal_cash\n",
    "            else:\n",
    "                cash = cashflow\n",
    "\n",
    "            statement = \"{} CDO recieved \\n{}\\n\".format(ratings[i], round(cash,2))\n",
    "            print(statement)\n",
    "    elif type == \"monthly\":\n",
    "        ideal_cash = (100 * 20) / 5\n",
    "        ratings = list(credit_rating.keys())\n",
    "        cash = 0\n",
    "\n",
    "        for i in range(5):\n",
    "            if cashflow > ideal_cash:\n",
    "                cash = ideal_cash\n",
    "                cashflow -= ideal_cash\n",
    "            else:\n",
    "                cash = cashflow\n",
    "\n",
    "            statement = \"{} CDO recieved \\n{}\".format(ratings[i], round(cash,2))\n",
    "            print(statement)"
   ]
  },
  {
   "cell_type": "code",
   "execution_count": null,
   "metadata": {},
   "outputs": [],
   "source": []
  },
  {
   "cell_type": "code",
   "execution_count": 5,
   "metadata": {},
   "outputs": [],
   "source": [
    "rho = 0.1"
   ]
  },
  {
   "cell_type": "code",
   "execution_count": 6,
   "metadata": {},
   "outputs": [],
   "source": [
    "N = np.random.normal(loc=0, scale=1, size=20)"
   ]
  },
  {
   "cell_type": "code",
   "execution_count": 7,
   "metadata": {},
   "outputs": [],
   "source": [
    "cov = np.reshape(np.array([1 if i==j else rho for j in range(20) for i in range(20)]),(20,20))"
   ]
  },
  {
   "cell_type": "code",
   "execution_count": 8,
   "metadata": {},
   "outputs": [],
   "source": [
    "A = N.dot(cov)"
   ]
  },
  {
   "cell_type": "code",
   "execution_count": 9,
   "metadata": {},
   "outputs": [],
   "source": [
    "U = ss.norm.cdf(A, loc=0, scale=1)"
   ]
  },
  {
   "cell_type": "code",
   "execution_count": 10,
   "metadata": {},
   "outputs": [],
   "source": [
    "T = -50*np.log(U)"
   ]
  },
  {
   "cell_type": "code",
   "execution_count": 11,
   "metadata": {},
   "outputs": [
    {
     "data": {
      "text/plain": [
       "array([0.40686964, 0.68982438, 0.18758184, 0.61647195, 0.46797373,\n",
       "       0.11663351, 0.16118855, 0.08856314, 0.89051986, 0.76110559,\n",
       "       0.90108763, 0.32960294, 0.8576756 , 0.59733474, 0.57522639,\n",
       "       0.04304801, 0.64028921, 0.52681473, 0.60307684, 0.59854336])"
      ]
     },
     "execution_count": 11,
     "metadata": {},
     "output_type": "execute_result"
    }
   ],
   "source": [
    "U"
   ]
  },
  {
   "cell_type": "code",
   "execution_count": 12,
   "metadata": {},
   "outputs": [
    {
     "data": {
      "text/plain": [
       "array([ 44.96312155,  18.56591158,  83.67700231,  24.18712321,\n",
       "        37.96715631, 107.43593223,  91.25902404, 121.20197478,\n",
       "         5.79749352,  13.64915871,   5.20763849,  55.4933277 ,\n",
       "         7.67646709,  25.76388082,  27.64957982, 157.27196095,\n",
       "        22.29176536,  32.04531763,  25.28553324,  25.66281536])"
      ]
     },
     "execution_count": 12,
     "metadata": {},
     "output_type": "execute_result"
    }
   ],
   "source": [
    "T"
   ]
  },
  {
   "cell_type": "code",
   "execution_count": null,
   "metadata": {},
   "outputs": [],
   "source": []
  },
  {
   "cell_type": "code",
   "execution_count": 13,
   "metadata": {},
   "outputs": [],
   "source": [
    "epv = 0\n",
    "for m in range(1,13):\n",
    "    cash = sum([100 if i > m/12 else 0 for i in T])\n",
    "    epv += cash * np.math.exp(-0.03*m/12)"
   ]
  },
  {
   "cell_type": "code",
   "execution_count": 14,
   "metadata": {},
   "outputs": [
    {
     "data": {
      "text/plain": [
       "23614.03100910171"
      ]
     },
     "execution_count": 14,
     "metadata": {},
     "output_type": "execute_result"
    }
   ],
   "source": [
    "epv"
   ]
  },
  {
   "cell_type": "code",
   "execution_count": 15,
   "metadata": {},
   "outputs": [
    {
     "data": {
      "text/plain": [
       "3.0308000000000006"
      ]
     },
     "execution_count": 15,
     "metadata": {},
     "output_type": "execute_result"
    }
   ],
   "source": [
    "YTM(epv,360,100)"
   ]
  },
  {
   "cell_type": "code",
   "execution_count": 16,
   "metadata": {},
   "outputs": [
    {
     "name": "stdout",
     "output_type": "stream",
     "text": [
      "AAA CDO recieved \n",
      "4800.0\n",
      "\n",
      "AA CDO recieved \n",
      "4800.0\n",
      "\n",
      "A CDO recieved \n",
      "4800.0\n",
      "\n",
      "BBB CDO recieved \n",
      "4800.0\n",
      "\n",
      "Junk CDO recieved \n",
      "4414.03\n",
      "\n"
     ]
    }
   ],
   "source": [
    "cash_waterfall(epv, ratings=credit_rating, type='yearly')"
   ]
  },
  {
   "cell_type": "code",
   "execution_count": null,
   "metadata": {},
   "outputs": [],
   "source": []
  },
  {
   "cell_type": "markdown",
   "metadata": {},
   "source": [
    "## Monte-Carlo Simulation"
   ]
  },
  {
   "cell_type": "code",
   "execution_count": 17,
   "metadata": {},
   "outputs": [],
   "source": [
    "rho = 0.1\n",
    "sims = round(1e4)"
   ]
  },
  {
   "cell_type": "code",
   "execution_count": 18,
   "metadata": {},
   "outputs": [
    {
     "name": "stdout",
     "output_type": "stream",
     "text": [
      "At correlation parameter 0.1 yeilded an average of 23211.73517355558 in cashflow\n",
      "The yeild to maturity is 3.165600000000003\n",
      "Our cashflow-distribution is as follows\n",
      "AAA CDO recieved \n",
      "4800.0\n",
      "\n",
      "AA CDO recieved \n",
      "4800.0\n",
      "\n",
      "A CDO recieved \n",
      "4800.0\n",
      "\n",
      "BBB CDO recieved \n",
      "4800.0\n",
      "\n",
      "Junk CDO recieved \n",
      "4011.74\n",
      "\n",
      "===============================================================================================\n",
      "At correlation parameter 0.2 yeilded an average of 22669.969386518536 in cashflow\n",
      "The yeild to maturity is 3.3525000000000027\n",
      "Our cashflow-distribution is as follows\n",
      "AAA CDO recieved \n",
      "4800.0\n",
      "\n",
      "AA CDO recieved \n",
      "4800.0\n",
      "\n",
      "A CDO recieved \n",
      "4800.0\n",
      "\n",
      "BBB CDO recieved \n",
      "4800.0\n",
      "\n",
      "Junk CDO recieved \n",
      "3469.97\n",
      "\n",
      "===============================================================================================\n",
      "At correlation parameter 0.30000000000000004 yeilded an average of 21768.84167559846 in cashflow\n",
      "The yeild to maturity is 3.6782000000000052\n",
      "Our cashflow-distribution is as follows\n",
      "AAA CDO recieved \n",
      "4800.0\n",
      "\n",
      "AA CDO recieved \n",
      "4800.0\n",
      "\n",
      "A CDO recieved \n",
      "4800.0\n",
      "\n",
      "BBB CDO recieved \n",
      "4800.0\n",
      "\n",
      "Junk CDO recieved \n",
      "2568.84\n",
      "\n",
      "===============================================================================================\n",
      "At correlation parameter 0.4 yeilded an average of 20679.392070069487 in cashflow\n",
      "The yeild to maturity is 4.0994000000000055\n",
      "Our cashflow-distribution is as follows\n",
      "AAA CDO recieved \n",
      "4800.0\n",
      "\n",
      "AA CDO recieved \n",
      "4800.0\n",
      "\n",
      "A CDO recieved \n",
      "4800.0\n",
      "\n",
      "BBB CDO recieved \n",
      "4800.0\n",
      "\n",
      "Junk CDO recieved \n",
      "1479.39\n",
      "\n",
      "===============================================================================================\n",
      "At correlation parameter 0.5 yeilded an average of 19881.94666246231 in cashflow\n",
      "The yeild to maturity is 4.429100000000004\n",
      "Our cashflow-distribution is as follows\n",
      "AAA CDO recieved \n",
      "4800.0\n",
      "\n",
      "AA CDO recieved \n",
      "4800.0\n",
      "\n",
      "A CDO recieved \n",
      "4800.0\n",
      "\n",
      "BBB CDO recieved \n",
      "4800.0\n",
      "\n",
      "Junk CDO recieved \n",
      "681.95\n",
      "\n",
      "===============================================================================================\n",
      "At correlation parameter 0.6 yeilded an average of 18883.854804449038 in cashflow\n",
      "The yeild to maturity is 4.870700000000004\n",
      "Our cashflow-distribution is as follows\n",
      "AAA CDO recieved \n",
      "4800.0\n",
      "\n",
      "AA CDO recieved \n",
      "4800.0\n",
      "\n",
      "A CDO recieved \n",
      "4800.0\n",
      "\n",
      "BBB CDO recieved \n",
      "4483.85\n",
      "\n",
      "Junk CDO recieved \n",
      "4483.85\n",
      "\n",
      "===============================================================================================\n",
      "At correlation parameter 0.7 yeilded an average of 18038.169594594932 in cashflow\n",
      "The yeild to maturity is 5.273400000000004\n",
      "Our cashflow-distribution is as follows\n",
      "AAA CDO recieved \n",
      "4800.0\n",
      "\n",
      "AA CDO recieved \n",
      "4800.0\n",
      "\n",
      "A CDO recieved \n",
      "4800.0\n",
      "\n",
      "BBB CDO recieved \n",
      "3638.17\n",
      "\n",
      "Junk CDO recieved \n",
      "3638.17\n",
      "\n",
      "===============================================================================================\n",
      "At correlation parameter 0.7999999999999999 yeilded an average of 17665.447283461854 in cashflow\n",
      "The yeild to maturity is 5.460200000000002\n",
      "Our cashflow-distribution is as follows\n",
      "AAA CDO recieved \n",
      "4800.0\n",
      "\n",
      "AA CDO recieved \n",
      "4800.0\n",
      "\n",
      "A CDO recieved \n",
      "4800.0\n",
      "\n",
      "BBB CDO recieved \n",
      "3265.45\n",
      "\n",
      "Junk CDO recieved \n",
      "3265.45\n",
      "\n",
      "===============================================================================================\n",
      "At correlation parameter 0.8999999999999999 yeilded an average of 16942.325042584376 in cashflow\n",
      "The yeild to maturity is 5.8404000000000025\n",
      "Our cashflow-distribution is as follows\n",
      "AAA CDO recieved \n",
      "4800.0\n",
      "\n",
      "AA CDO recieved \n",
      "4800.0\n",
      "\n",
      "A CDO recieved \n",
      "4800.0\n",
      "\n",
      "BBB CDO recieved \n",
      "2542.33\n",
      "\n",
      "Junk CDO recieved \n",
      "2542.33\n",
      "\n",
      "===============================================================================================\n",
      "At correlation parameter 0.9999999999999999 yeilded an average of 16608.657218180324 in cashflow\n",
      "The yeild to maturity is 6.024400000000003\n",
      "Our cashflow-distribution is as follows\n",
      "AAA CDO recieved \n",
      "4800.0\n",
      "\n",
      "AA CDO recieved \n",
      "4800.0\n",
      "\n",
      "A CDO recieved \n",
      "4800.0\n",
      "\n",
      "BBB CDO recieved \n",
      "2208.66\n",
      "\n",
      "Junk CDO recieved \n",
      "2208.66\n",
      "\n",
      "===============================================================================================\n"
     ]
    }
   ],
   "source": [
    "while (rho <= 1):\n",
    "    average = [0] * sims\n",
    "    \n",
    "    for x in range(sims):\n",
    "        # forming the N-standard normal and its covariance matrix cov to form the correlated vector normal A\n",
    "        N = np.random.normal(loc=0, scale=1, size=20)\n",
    "        cov = np.reshape(np.array([1 if i==j else rho for j in range(20) for i in range(20)]),(20,20))\n",
    "        A = N.dot(cov)\n",
    "        \n",
    "        U = ss.norm.cdf(A, loc=0, scale=1)\n",
    "        T = -50*np.log(U)\n",
    "        \n",
    "        epv = 0\n",
    "        for m in range(1,13):\n",
    "            cash = sum([100 if i > m/12 else 0 for i in T])\n",
    "            epv += cash * np.math.exp(-0.03*m/12)\n",
    "            \n",
    "        average[x] = epv\n",
    "    \n",
    "    average_earn = np.average(average)\n",
    "    \n",
    "    print(\"At correlation parameter {} yeilded an average of {} in cashflow\".format(rho, average_earn))\n",
    "    print(\"The yeild to maturity is {}\".format(YTM(average_earn,360,100)))\n",
    "    print(\"Our cashflow-distribution is as follows\")\n",
    "    cash_waterfall(average_earn, ratings=credit_rating, type='yearly')\n",
    "    print('===============================================================================================')\n",
    "    rho += 0.1"
   ]
  },
  {
   "cell_type": "code",
   "execution_count": null,
   "metadata": {},
   "outputs": [],
   "source": []
  },
  {
   "cell_type": "code",
   "execution_count": null,
   "metadata": {},
   "outputs": [],
   "source": []
  },
  {
   "cell_type": "code",
   "execution_count": null,
   "metadata": {},
   "outputs": [],
   "source": []
  }
 ],
 "metadata": {
  "kernelspec": {
   "display_name": "Python 3",
   "language": "python",
   "name": "python3"
  },
  "language_info": {
   "codemirror_mode": {
    "name": "ipython",
    "version": 3
   },
   "file_extension": ".py",
   "mimetype": "text/x-python",
   "name": "python",
   "nbconvert_exporter": "python",
   "pygments_lexer": "ipython3",
   "version": "3.7.0"
  }
 },
 "nbformat": 4,
 "nbformat_minor": 2
}
