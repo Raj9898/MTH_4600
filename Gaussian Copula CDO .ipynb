{
 "cells": [
  {
   "cell_type": "code",
   "execution_count": 1,
   "metadata": {},
   "outputs": [],
   "source": [
    "import numpy as np \n",
    "import scipy.stats as ss\n",
    "import matplotlib.pyplot as plt\n",
    "plt.style.use('seaborn')"
   ]
  },
  {
   "cell_type": "code",
   "execution_count": 2,
   "metadata": {},
   "outputs": [],
   "source": [
    "def YTM (pv: float, maturity: int, cashflow: float = 100):\n",
    "    \"\"\"\n",
    "    This function calculates the yield-to-maturity (ytm) of the promised cash flow\n",
    "    :param pv: the promised cash flow of the annuity where the calculated value of this promised cash flow\n",
    "    :param cashflow: the provided cashflow per each coupon data\n",
    "    :param maturity: the maturity of the provided fixed income asset in months (e.g. 3yr = 36 months)\n",
    "    return: The ytm is calculated as a continuously compounding annual rate\n",
    "    \"\"\"\n",
    "    \n",
    "    ytm = 0.0\n",
    "    step = 0.01\n",
    "\n",
    "    # Calculate the ytm to within 0.000001, i.e., 0.0001% or 0.01 bps\n",
    "    while (step > 0.000001):\n",
    "\n",
    "        # Keep increasing the trial ytm until the resulting present value (pv0) is too small (less than pv).\n",
    "        while (True):\n",
    "\n",
    "            # Calculate the present value with a discount rate of \"ytm\".\n",
    "            pv0 = 0\n",
    "            for m in range(1, maturity+1):\n",
    "                pv0 += cashflow * np.math.exp(-ytm * m / 12.0)\n",
    "\n",
    "            # Is ytm now too big? If not, increase it further by the amount \"step\".\n",
    "            if (pv0 > pv):\n",
    "                ytm += step\n",
    "\n",
    "            # If so, reduce it by \"step\" and break out of the \"while (1)\" loop. Reduce the step size for the next iteration.\n",
    "            else:\n",
    "                ytm -= step\n",
    "                step /= 10.0\n",
    "                break\n",
    "\n",
    "    #return the yield-to-maturity as a percent.\n",
    "    return 100.0 * ytm              "
   ]
  },
  {
   "cell_type": "code",
   "execution_count": 3,
   "metadata": {},
   "outputs": [],
   "source": [
    "credit_rating = {0.035:\"AAA\", 0.04:\"AA\", 0.045:\"A\", 0.05:\"BBB\", 0.06:\"Speculative\"}"
   ]
  },
  {
   "cell_type": "code",
   "execution_count": 4,
   "metadata": {},
   "outputs": [],
   "source": [
    "def cash_waterfall(cashflow:int, credit_ratings:dict):\n",
    "    # promised cash flow per CDO\n",
    "    ideal_cash = (100 * 20) / 5 \n",
    "    \n",
    "    cash = 0 \n",
    "    defaults = 0\n",
    "    \n",
    "    for i in range(1,6):\n",
    "        # if the cashflow is greate than the ideal cash flow we allocate the cash and reduce the cash pool\n",
    "        if cashflow > ideal_cash:\n",
    "            cash = ideal_cash\n",
    "            cashflow -= ideal_cash\n",
    "        else:\n",
    "            # if you lack sufficient cash, then remaining tranches recieve no money\n",
    "            if defaults == 0:\n",
    "                cash = cashflow\n",
    "                defaults += 1\n",
    "            else:\n",
    "                cash = 0\n",
    "        \n",
    "        # continually add streams of cash per tranche accordingly\n",
    "        credit_ratings[str(i)] += cash\n",
    "    \n",
    "    return credit_ratings\n",
    "        "
   ]
  },
  {
   "cell_type": "code",
   "execution_count": null,
   "metadata": {},
   "outputs": [],
   "source": []
  },
  {
   "cell_type": "markdown",
   "metadata": {},
   "source": [
    "## Monte-Carlo Simulation"
   ]
  },
  {
   "cell_type": "code",
   "execution_count": null,
   "metadata": {},
   "outputs": [
    {
     "name": "stdout",
     "output_type": "stream",
     "text": [
      "At correlation parameter 0.0\n",
      "--------------------------------------------------------------------------------\n",
      "Our cashflow-distribution for 1 CDO is $144000.0\n",
      "The yeild to maturity is -1.1110999999999998\n",
      "Our cashflow-distribution for 2 CDO is $144000.0\n",
      "The yeild to maturity is -1.1110999999999998\n",
      "Our cashflow-distribution for 3 CDO is $65311.77\n",
      "The yeild to maturity is -1.1110999999999998\n",
      "Our cashflow-distribution for 4 CDO is $0\n",
      "The yeild to maturity is 892841.5281148463\n",
      "Our cashflow-distribution for 5 CDO is $0\n"
     ]
    }
   ],
   "source": [
    "rho = 0.0\n",
    "tranches = [\"1\", \"2\", \"3\", \"4\", \"5\"]\n",
    "\n",
    "while (rho < 1):\n",
    "    # forming the N-standard normal and its covariance matrix cov to form the correlated vector normal A\n",
    "    N = np.random.normal(loc=0, scale=1, size=20)\n",
    "    cov = np.reshape(np.array([1 if i==j else rho for j in range(20) for i in range(20)]),(20,20)) \n",
    "    A = N.dot(np.linalg.cholesky(cov))\n",
    "\n",
    "    # create the default times with which to modify \n",
    "    U = ss.norm.cdf(A, loc=0, scale=1)\n",
    "    T = -50*np.log(U)\n",
    "\n",
    "    epv = 0\n",
    "    maturity = 360\n",
    "    credit_rating = {\"1\":0, \"2\":0, \"3\":0, \"4\":0, \"5\":0}\n",
    "\n",
    "    # 30 year maturity CDO being tranched\n",
    "    for m in range(1,maturity+1):\n",
    "        cash = sum([100 if (i > m/12) else 0 for i in T])\n",
    "        epv += cash * np.math.exp(-0.03*m/12)\n",
    "    \n",
    "        # cash-flow waterfall given the total EPV paid out\n",
    "        credit_rating = cash_waterfall(cashflow=epv, credit_ratings=credit_rating)\n",
    "    \n",
    "    print(\"At correlation parameter {}\".format(round(rho, 2)))\n",
    "    print('--------------------------------------------------------------------------------')\n",
    "    for x in tranches:\n",
    "        val = credit_rating[x]\n",
    "        print(\"Our cashflow-distribution for {} CDO is ${}\".format(x, round(val,2)))\n",
    "        print(\"The yeild to maturity is {}\".format(YTM(pv=val,maturity=360,cashflow=100)))\n",
    "    print('================================================================================')\n",
    "    \n",
    "    rho += 0.1"
   ]
  },
  {
   "cell_type": "code",
   "execution_count": null,
   "metadata": {},
   "outputs": [],
   "source": []
  },
  {
   "cell_type": "code",
   "execution_count": null,
   "metadata": {},
   "outputs": [],
   "source": []
  },
  {
   "cell_type": "code",
   "execution_count": null,
   "metadata": {},
   "outputs": [],
   "source": []
  }
 ],
 "metadata": {
  "kernelspec": {
   "display_name": "Python 3",
   "language": "python",
   "name": "python3"
  },
  "language_info": {
   "codemirror_mode": {
    "name": "ipython",
    "version": 3
   },
   "file_extension": ".py",
   "mimetype": "text/x-python",
   "name": "python",
   "nbconvert_exporter": "python",
   "pygments_lexer": "ipython3",
   "version": "3.7.0"
  }
 },
 "nbformat": 4,
 "nbformat_minor": 2
}
