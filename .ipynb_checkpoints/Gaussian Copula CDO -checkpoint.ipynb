{
 "cells": [
  {
   "cell_type": "code",
   "execution_count": 9,
   "metadata": {},
   "outputs": [],
   "source": [
    "import numpy as np \n",
    "import scipy.stats as ss\n",
    "import matplotlib.pyplot as plt\n",
    "plt.style.use('seaborn')"
   ]
  },
  {
   "cell_type": "code",
   "execution_count": 10,
   "metadata": {},
   "outputs": [],
   "source": [
    "rho = 0.85"
   ]
  },
  {
   "cell_type": "code",
   "execution_count": 11,
   "metadata": {},
   "outputs": [],
   "source": [
    "N = np.random.normal(loc=0, scale=1, size=20)"
   ]
  },
  {
   "cell_type": "code",
   "execution_count": 12,
   "metadata": {},
   "outputs": [],
   "source": [
    "cov = np.reshape(np.array([1 if i==j else rho for j in range(20) for i in range(20)]),(20,20))"
   ]
  },
  {
   "cell_type": "code",
   "execution_count": 14,
   "metadata": {},
   "outputs": [],
   "source": [
    "U = ss.norm.cdf(N, loc=0, scale=1)"
   ]
  },
  {
   "cell_type": "code",
   "execution_count": 22,
   "metadata": {},
   "outputs": [],
   "source": [
    "T = -50*np.log(U)"
   ]
  },
  {
   "cell_type": "code",
   "execution_count": 16,
   "metadata": {},
   "outputs": [
    {
     "data": {
      "text/plain": [
       "array([0.98456833, 0.59521887, 0.3055743 , 0.17138667, 0.71603445,\n",
       "       0.56737913, 0.56606327, 0.07893026, 0.92571137, 0.15077095,\n",
       "       0.71935572, 0.36028454, 0.58760905, 0.43284544, 0.2634067 ,\n",
       "       0.86092242, 0.9678227 , 0.85880806, 0.7366655 , 0.12271885])"
      ]
     },
     "execution_count": 16,
     "metadata": {},
     "output_type": "execute_result"
    }
   ],
   "source": [
    "U"
   ]
  },
  {
   "cell_type": "code",
   "execution_count": 24,
   "metadata": {},
   "outputs": [
    {
     "data": {
      "text/plain": [
       "array([  0.77759903,  25.94130438,  59.27811631,  88.19165322,\n",
       "        16.70135025,  28.33637666,  28.45247114, 126.95953081,\n",
       "         3.85963941,  94.59967388,  16.46996489,  51.04305878,\n",
       "        26.5846719 ,  41.86872881,  66.70280301,   7.48754417,\n",
       "         1.63531825,   7.61049127,  15.28106798, 104.89296706])"
      ]
     },
     "execution_count": 24,
     "metadata": {},
     "output_type": "execute_result"
    }
   ],
   "source": [
    "T"
   ]
  },
  {
   "cell_type": "code",
   "execution_count": null,
   "metadata": {},
   "outputs": [],
   "source": []
  },
  {
   "cell_type": "code",
   "execution_count": 25,
   "metadata": {},
   "outputs": [
    {
     "name": "stdout",
     "output_type": "stream",
     "text": [
      "1\n",
      "2\n",
      "3\n",
      "4\n",
      "5\n",
      "6\n",
      "7\n",
      "8\n",
      "9\n",
      "10\n",
      "11\n",
      "12\n"
     ]
    }
   ],
   "source": [
    "for m in range(1,13):\n",
    "    check = m/12\n",
    "    epv = cash / np.math.exp(0.03*check)"
   ]
  },
  {
   "cell_type": "code",
   "execution_count": null,
   "metadata": {},
   "outputs": [],
   "source": []
  },
  {
   "cell_type": "code",
   "execution_count": null,
   "metadata": {},
   "outputs": [],
   "source": [
    "def YTM (pv: float, maturity: int, cashflow: float = 100):\n",
    "    \"\"\"\n",
    "    This function calculates the yield-to-maturity (ytm) of the promised cash flow\n",
    "    :param pv: the promised cash flow of the annuity where the calculated value of this promised cash flow\n",
    "    :param cashflow: the provided cashflow per each coupon data\n",
    "    :param maturity: the maturity of the provided fixed income asset in months (e.g. 3yr = 36 months)\n",
    "    return: The ytm is calculated as a continuously compounding annual rate\n",
    "    \"\"\"\n",
    "    \n",
    "    ytm = 0.0\n",
    "    step = 0.01\n",
    "\n",
    "    # Calculate the ytm to within 0.000001, i.e., 0.0001% or 0.01 bps\n",
    "    while (step > 0.000001):\n",
    "\n",
    "        # Keep increasing the trial ytm until the resulting present value (pv0) is too small (less than pv).\n",
    "        while (True):\n",
    "\n",
    "            # Calculate the present value with a discount rate of \"ytm\".\n",
    "            pv0 = 0\n",
    "            for m in range(1, maturity+1):\n",
    "                pv0 += cashflow * exp (-ytm * m / 12.0)\n",
    "\n",
    "            # Is ytm now too big? If not, increase it further by the amount \"step\".\n",
    "            if (pv0 > pv):\n",
    "                ytm += step\n",
    "\n",
    "            # If so, reduce it by \"step\" and break out of the \"while (1)\" loop. Reduce the step size for the next iteration.\n",
    "             else:\n",
    "                ytm -= step\n",
    "                step /= 10.0\n",
    "                break\n",
    "\n",
    "    #return the yield-to-maturity as a percent.\n",
    "    return 100.0 * ytm              "
   ]
  },
  {
   "cell_type": "code",
   "execution_count": null,
   "metadata": {},
   "outputs": [],
   "source": []
  }
 ],
 "metadata": {
  "kernelspec": {
   "display_name": "Python 3",
   "language": "python",
   "name": "python3"
  },
  "language_info": {
   "codemirror_mode": {
    "name": "ipython",
    "version": 3
   },
   "file_extension": ".py",
   "mimetype": "text/x-python",
   "name": "python",
   "nbconvert_exporter": "python",
   "pygments_lexer": "ipython3",
   "version": "3.7.0"
  }
 },
 "nbformat": 4,
 "nbformat_minor": 2
}
